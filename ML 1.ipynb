{
 "cells": [
  {
   "cell_type": "markdown",
   "id": "14800e76-d94a-45db-a19d-4ffd78921156",
   "metadata": {},
   "source": [
    "1. What does one mean by the term 'machine learning'?\n",
    "\n"
   ]
  },
  {
   "cell_type": "markdown",
   "id": "e9cf16a8-f6c8-4bd8-85b8-480d342f16d6",
   "metadata": {},
   "source": [
    "Machine learning is a branch of artificaial intelligence (AI) are computer scince which focuses on the use of data and algorithms to \n",
    "initiate the way that humans learn, gradually imporving its accuracy."
   ]
  },
  {
   "cell_type": "markdown",
   "id": "3008ac58-a93e-49fb-a71d-4f166f2e2908",
   "metadata": {},
   "source": [
    "2.Can you think of 4 distinct types of issues where it shines?\n",
    "\n"
   ]
  },
  {
   "cell_type": "markdown",
   "id": "81c997b5-09a8-4853-b6b1-710d191ddfa8",
   "metadata": {},
   "source": [
    "Machine learing algorithms have had good results on problems such has spam detection in email,cancer diagnosis ,fraudulent credit card\n",
    "transactions, and automatically driving vehicles.\n"
   ]
  },
  {
   "cell_type": "markdown",
   "id": "beca8e7d-fcc9-407b-bca4-b7650512763f",
   "metadata": {},
   "source": [
    "3.What is a labeled training set, and how does it work?\n",
    "\n"
   ]
  },
  {
   "cell_type": "markdown",
   "id": "d7f4491a-4b4f-46b5-8358-b4930d2496aa",
   "metadata": {},
   "source": [
    "A labeled training set is a collection of data where one of the features of data indicates the class the training example belongs\n",
    "to.A labeled training set is used in supervised learning algorithms."
   ]
  },
  {
   "cell_type": "markdown",
   "id": "0375bc66-b753-40db-83dd-7ecd93af5145",
   "metadata": {},
   "source": [
    "4.What are the two most important tasks that are supervised?\n",
    "\n"
   ]
  },
  {
   "cell_type": "markdown",
   "id": "0f19895b-d89e-4895-af77-9373b456630d",
   "metadata": {},
   "source": [
    "The two most common supervised learnig task are regression and classification.In a regression problem w our prediction is a scaler\n",
    "value.When we're trying to solve a classification problem, our output is either 1 or 0."
   ]
  },
  {
   "cell_type": "markdown",
   "id": "2effe0d8-311e-4e78-8196-4fcd23cafd2b",
   "metadata": {},
   "source": [
    "5.Can you think of four examples of unsupervised tasks?\n",
    "\n"
   ]
  },
  {
   "cell_type": "markdown",
   "id": "d000e9db-00a8-4817-bb76-b87463f4fa51",
   "metadata": {},
   "source": [
    "Common unsupervised tasks include clustering, visualisation, dimentionality reduction and association rule learning."
   ]
  },
  {
   "cell_type": "markdown",
   "id": "465c8a14-d0a1-4f41-a82b-e0a9b2d184cd",
   "metadata": {},
   "source": [
    "6.State the machine learning model that would be best to make a robot walk through various\n",
    "unfamiliar terrains?\n",
    "\n"
   ]
  },
  {
   "cell_type": "markdown",
   "id": "67bf294a-2767-4c4e-b0ca-6fa89e775faf",
   "metadata": {},
   "source": [
    "I would use a reinforcement learning approch.Reinforcement learning is a system where an \"agent\" observed the environment,selects and \n",
    "performs actions,then recived a reward or punishment based on the result of the action.Over time agent learns by itself what is the most \n",
    "productive strategy."
   ]
  },
  {
   "cell_type": "markdown",
   "id": "9909f40f-daf7-4dd9-bf1a-4eca561b79ce",
   "metadata": {},
   "source": [
    "7.Which algorithm will you use to divide your customers into different groups?\n",
    "\n"
   ]
  },
  {
   "cell_type": "markdown",
   "id": "dc456ec3-9b01-45e3-899b-6e478daa9077",
   "metadata": {},
   "source": [
    "I would use some sort of clustering algorithum that can find the decision boundaries in the groups automatically.This is an unsupervised \n",
    "approach.However,if i already knew the categories of my customers,then i would choose a supervised approach and go will a classification\n",
    "algorithum."
   ]
  },
  {
   "cell_type": "markdown",
   "id": "11c530d3-3525-4f74-81f0-1eb907e62f80",
   "metadata": {},
   "source": [
    "8.Will you consider the problem of spam detection to be a supervised or unsupervised learning\n",
    "problem?\n",
    "\n"
   ]
  },
  {
   "cell_type": "markdown",
   "id": "f3293748-e9a5-41f9-92a3-b8f167beb077",
   "metadata": {},
   "source": [
    "I would frame it as a supervised learning problem because humans have a general idea about what spam and what it isn't.We can use this\n",
    "notion to create a laeled dataset for an alorithum to learn from."
   ]
  },
  {
   "cell_type": "markdown",
   "id": "db160f41-fe9c-4b15-9d8c-a9d7d0a2d247",
   "metadata": {},
   "source": [
    "9.What is the concept of an online learning system?\n",
    "\n"
   ]
  },
  {
   "cell_type": "markdown",
   "id": "950ce655-50f4-4bfb-999c-ccfbb88f0f52",
   "metadata": {},
   "source": [
    "An online learning system learns from new data on-the-fly.As a result the system is trained incremently either by using example at a\n",
    "time or using a mini-batch approach.This keeps each learning step cheap and memory efficent."
   ]
  },
  {
   "cell_type": "markdown",
   "id": "9e4189c1-c31c-4727-95b9-09a6c6415f4f",
   "metadata": {},
   "source": [
    "10.What is out-of-core learning, and how does it differ from core learning?\n",
    "\n"
   ]
  },
  {
   "cell_type": "markdown",
   "id": "f3fbd456-db0b-4875-82d5-a47a92b17dd5",
   "metadata": {},
   "source": [
    "Out-of-core learning is used when a dataset is too large to fit into a computer's memory.The algorithum loads part of the data,run a \n",
    "training step,then repeats the process until it has run on all the data."
   ]
  },
  {
   "cell_type": "markdown",
   "id": "63da7ca0-5af0-4541-b879-007cc6f813f9",
   "metadata": {},
   "source": [
    "11.What kind of learning algorithm makes predictions using a similarity measure?\n",
    "\n"
   ]
  },
  {
   "cell_type": "markdown",
   "id": "bc1d423b-71b8-495d-b6da-8ff5754c1337",
   "metadata": {},
   "source": [
    "Instance-based learning algorithum use a measure of similarity to generalize to new cases.In an instance-based learning system,the \n",
    "algorithum learns the examples by heart,then uses the similarity measure to generalize."
   ]
  },
  {
   "cell_type": "markdown",
   "id": "aa33fead-15e7-49bb-b9f2-77e71652519b",
   "metadata": {},
   "source": [
    "12.What's the difference between a model parameter and a hyperparameter in a learning\n",
    "algorithm?\n"
   ]
  },
  {
   "cell_type": "markdown",
   "id": "e5d158cc-d8a0-4dc4-b069-158eb9e5a3c0",
   "metadata": {},
   "source": [
    "A hyperparameter is a parameter of the learning algorithum,not the model.For example,in a simple linear regression problem our model\n",
    "is parameterized by that which is a vector of weights.In order to find the best values for that we have a cost function  which is run \n",
    "repeatedly by the gradient decent algorithum. Gradient descent has a hyper parameter called alpha which is the learning rate of the \n",
    "algorithum.\n"
   ]
  },
  {
   "cell_type": "markdown",
   "id": "fd435397-18a2-40c3-8e40-170f372df828",
   "metadata": {},
   "source": [
    "\n",
    "13.What are the criteria that model-based learning algorithms look for? What is the most popular\n",
    "method they use to achieve success? What method do they use to make predictions?"
   ]
  },
  {
   "cell_type": "markdown",
   "id": "c17ecf11-2a37-4a42-bae0-4e25a1834b2a",
   "metadata": {},
   "source": [
    "The goal for a model-based algorithm is to be able to generalize to new examples.To do this, model based algorithum search for optimal\n",
    "values for the models parameters,often called theta.This searching ,or \"learning\", is what machine learning is all about.Model-based\n",
    "system learn by minimizating a cost function that measure how bad the system is at making predictions on new data,plus a penalty for \n",
    "model complexity if the model is regularized.To make a prediction, a new instance's feature are fed into a hypothesis function which \n",
    "used the minimized theta found by repeatedly running the cost function."
   ]
  },
  {
   "cell_type": "markdown",
   "id": "43794baf-f488-4072-a458-48eacb991316",
   "metadata": {},
   "source": [
    "14.Can you name four of the most important Machine Learning challenges?\n",
    "\n"
   ]
  },
  {
   "cell_type": "markdown",
   "id": "138d961f-1e15-4936-9580-6d6c4a55b61e",
   "metadata": {},
   "source": [
    "Not gathering enough data,or sampling noise.sampling noise means we'll have non-representative data as a result of chance.\n",
    "\n",
    "Using a dataset that is not representative of the cases you want to generalize to.This is called sampling bias.For example,if you\n",
    "want to train an algorithum with \"cat vidioes\",and all your videos are from Youtube,you're actually training an algorithum to learn about\n",
    "\"Youtube cat vidioes\"\n",
    "\n",
    "Your dataset is fully of misssing values,outliers,and noise(poor measurments).\n",
    "\n",
    "The features in your dataset are irrelevent.Garbage in,garbage out.\n",
    "\n",
    "Feature selection -choose the most relevent feature from your dataset\n",
    "Feature extraction- combine feature in your dataset to generate a new,more useful feature\n",
    "When your model performs well on the training data,but not on test data,You're over fit your model.Models that suffer from\n",
    "overfiting do not generalize well to new examples.Overfiting happens when the model is too complex relative to the amount and \n",
    "noisiness of the data.\n",
    "\n",
    "Try simplifying the model by reducing the number of features in the data or constraining the parameters by reducing the degrees of\n",
    "freedom.\n",
    "\n",
    "Selected a more powerful model with more parameters\n",
    "\n",
    "Use feature enginerring to feed better features to the model\n",
    "\n",
    "Reduce the constrains of the model (increase degree of freedom, reduce regularization parameter,etc.)\n"
   ]
  },
  {
   "cell_type": "markdown",
   "id": "1ca408eb-42c7-428d-a7cb-0c2eec16752f",
   "metadata": {},
   "source": [
    "15.What happens if the model performs well on the training data but fails to generalize the results\n",
    "to new situations? Can you think of three different options?\n",
    "\n"
   ]
  },
  {
   "cell_type": "markdown",
   "id": "9f0306cb-de7e-4571-931c-b20e418c4a59",
   "metadata": {},
   "source": [
    "This is a case  where the model is overfitting the training data.To concteract overfitting,We can reduce the complexity of the model by \n",
    "removing features or constraining the parameters.We could gather more data.Finally we can reduce noisiness in the data by fixing \n",
    "errors and removing outliers."
   ]
  },
  {
   "cell_type": "markdown",
   "id": "28efda47-57e0-46e6-9ca9-afb6f821c368",
   "metadata": {},
   "source": [
    "16.What exactly is a test set, and why would you need one?\n",
    "\n"
   ]
  },
  {
   "cell_type": "markdown",
   "id": "b4798c45-1629-443f-863a-caad27b130ec",
   "metadata": {},
   "source": [
    "When we want to know how well our model generalizes to new case- we prefer to use a test set instead of actually deploying the system.\n",
    "To build the test set we split  the training data (50-50,60-41,80-20 are common splits) into a training set and test set.Our model is \n",
    "training with the training set.Then we use the model to run predictions on the test set.Our error rate on the test set is called the \n",
    "generalization error or out -of-sample error.This error tells us how well our modlel performs on examples it has never seen before.\n",
    "\n",
    "If the training error is low,but the generalization error is high ,it means we'r overfitting our model."
   ]
  },
  {
   "cell_type": "markdown",
   "id": "cdf389ca-94cc-4e43-89b3-c909ce2c5acb",
   "metadata": {},
   "source": [
    "17.What is a validation set's purpose?\n"
   ]
  },
  {
   "cell_type": "markdown",
   "id": "570c6c5f-6104-4ef9-a589-95756bbfc93a",
   "metadata": {},
   "source": [
    "Let's say we have a linear model and we want to perform some hyperparameter turning to reduce the generalization error.One way to do\n",
    "this 100 different models with 100 different hyperparameter values using the training set and finding the generalization error with the \n",
    "test set. You find the best hyperparameter value gives you 5% generalization error.\n",
    "\n",
    "So you launch the model into production and fing you're seeing 15% generalization error.This isn't going as expected.What happened?\n",
    "\n",
    "The problem is that for each iteration of hyperparameter turning,you measured the generalization error then uploaded the model using the \n",
    "same test set.In other words,your produced the best generalization error for the set.The test set no longer represents cases the \n",
    "model hasn't seen before.\n",
    "\n",
    "A common solution to this problem is to have a second hold out set called the validation set.You train multiple models with various\n",
    "hyperparameters using the trained set,you select the model and hyperparameters that perform best on the validation set,and when you\n",
    "are happy about your model you run a single final test against the test set to get an estimate of the generalization error."
   ]
  },
  {
   "cell_type": "markdown",
   "id": "d1a4c3aa-15e7-4e25-99b1-86d61b3041b5",
   "metadata": {},
   "source": [
    "\n",
    "18.What precisely is the train-dev kit, when will you need it, how do you put it to use?\n"
   ]
  },
  {
   "cell_type": "markdown",
   "id": "52b22286-2159-45e8-861d-c76d5adc8d15",
   "metadata": {},
   "source": [
    "Your model will not be generalized to new examples."
   ]
  },
  {
   "cell_type": "markdown",
   "id": "9d71ff22-95ea-4412-ba96-51755ac70209",
   "metadata": {},
   "source": [
    "\n",
    "19.What could go wrong if you use the test set to tune hyperparameters?"
   ]
  },
  {
   "cell_type": "markdown",
   "id": "57ebcc9b-56c2-4630-b4a3-56c69905fe72",
   "metadata": {},
   "source": [
    "Cross-validation hepls us compare models without wasting too much training data in the validation set"
   ]
  },
  {
   "cell_type": "code",
   "execution_count": null,
   "id": "ebf246c2-7408-460e-99c9-8c368d7545bb",
   "metadata": {},
   "outputs": [],
   "source": []
  },
  {
   "cell_type": "code",
   "execution_count": null,
   "id": "cca7699a-30f2-44c2-ab28-3bd1d2985ca7",
   "metadata": {},
   "outputs": [],
   "source": []
  },
  {
   "cell_type": "code",
   "execution_count": null,
   "id": "0d8b22ab-c786-4277-96df-4fae293bcbea",
   "metadata": {},
   "outputs": [],
   "source": []
  },
  {
   "cell_type": "code",
   "execution_count": null,
   "id": "10dad560-9e79-4cb3-a809-a1e5168ec442",
   "metadata": {},
   "outputs": [],
   "source": []
  },
  {
   "cell_type": "code",
   "execution_count": null,
   "id": "d8ff59cd-060c-4b2d-97b9-acb012f3f972",
   "metadata": {},
   "outputs": [],
   "source": []
  },
  {
   "cell_type": "code",
   "execution_count": null,
   "id": "9d2c77f5-7350-4000-90a8-f45b84fb84dc",
   "metadata": {},
   "outputs": [],
   "source": []
  },
  {
   "cell_type": "code",
   "execution_count": null,
   "id": "0625d896-f5ed-498f-88c2-4093412daf47",
   "metadata": {},
   "outputs": [],
   "source": []
  },
  {
   "cell_type": "code",
   "execution_count": null,
   "id": "caacb789-f25b-4bbd-bff3-4f6f4888f93a",
   "metadata": {},
   "outputs": [],
   "source": []
  },
  {
   "cell_type": "code",
   "execution_count": null,
   "id": "813f80a7-cba1-40e8-bceb-24f1fc7fe00d",
   "metadata": {},
   "outputs": [],
   "source": []
  },
  {
   "cell_type": "code",
   "execution_count": null,
   "id": "259035ba-a4df-4776-9003-3ed85a329a31",
   "metadata": {},
   "outputs": [],
   "source": []
  }
 ],
 "metadata": {
  "kernelspec": {
   "display_name": "Python 3 (ipykernel)",
   "language": "python",
   "name": "python3"
  },
  "language_info": {
   "codemirror_mode": {
    "name": "ipython",
    "version": 3
   },
   "file_extension": ".py",
   "mimetype": "text/x-python",
   "name": "python",
   "nbconvert_exporter": "python",
   "pygments_lexer": "ipython3",
   "version": "3.9.12"
  }
 },
 "nbformat": 4,
 "nbformat_minor": 5
}
