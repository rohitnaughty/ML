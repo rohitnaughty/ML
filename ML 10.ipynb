{
 "cells": [
  {
   "cell_type": "markdown",
   "id": "011c14d1-4230-45f5-8f7e-329390c5964d",
   "metadata": {},
   "source": [
    "1. Define the Bayesian interpretation of probability.\n"
   ]
  },
  {
   "cell_type": "markdown",
   "id": "4b60e33f-0d37-4eda-bb2b-f413504c7ef6",
   "metadata": {},
   "source": [
    "Bayesian probability is the study of subjective probabilities or belief in an outcome, compared to the frequentist\n",
    "approach where probabilities are based purely on the past occurence of the event.A Bayesian Network captures\n",
    "the joint probabilities of the events represented by the  model."
   ]
  },
  {
   "cell_type": "markdown",
   "id": "b01b900b-074c-479f-854e-0dcaeb23ed7b",
   "metadata": {},
   "source": [
    "2. Define probability of a union of two events with equation.\n"
   ]
  },
  {
   "cell_type": "markdown",
   "id": "bfcedbdf-5eca-4f30-849d-41ae86601ab9",
   "metadata": {},
   "source": [
    "The general probability addition rule for the union of two events states that P(AUB)=P(A)+P(B)-P(A∩B), Where A∩B\n",
    "is the intersection of the two sets."
   ]
  },
  {
   "cell_type": "markdown",
   "id": "833068f5-d9d9-41ce-8b9e-e9ee37fd2b07",
   "metadata": {},
   "source": [
    "3. What is joint probability? What is its formula?\n"
   ]
  },
  {
   "cell_type": "markdown",
   "id": "88b64ccb-9aaa-4353-bf8e-3d67291aaf15",
   "metadata": {},
   "source": [
    "Probabilities are combined using multiplication,therefore the join probability of independent events is \n",
    "calculated as the probability of event A multiplied by the probability of event B.This can be stated formally as \n",
    "follows:\n",
    "Joint Probability :P(A and B) =P(A)*P(B)"
   ]
  },
  {
   "cell_type": "markdown",
   "id": "030b96e6-dffb-48c5-9f76-c87d813978b6",
   "metadata": {},
   "source": [
    "4. What is chain rule of probability?\n"
   ]
  },
  {
   "cell_type": "markdown",
   "id": "20aafc80-da0f-4caf-813d-7df51ffdda7c",
   "metadata": {},
   "source": [
    "The chain rule,or general product rule,calculates any components of the join distribution of set of random \n",
    "variable using only conditional probailities.This probability theory is used as a foundation for backpropagaation \n",
    "and in creating bayesian networks."
   ]
  },
  {
   "cell_type": "markdown",
   "id": "3d9ab8ec-921d-4e1d-baa9-4d043229be55",
   "metadata": {},
   "source": [
    "5. What is conditional probability means? What is the formula of it?\n"
   ]
  },
  {
   "cell_type": "markdown",
   "id": "afee6c1f-791c-48db-9339-39790957a0e0",
   "metadata": {},
   "source": [
    "Conditional probaility is defined as the likelihood of an event or outcome occurring,based on the occurrence \n",
    "of a previous events or outcome.\n",
    "\n",
    "Conditional probability is calculated by multiplying the probability of the preceding event by the updated\n",
    "probability of the succeeding, or conditional,event.\n",
    "\n",
    "Let's take a real-life example.Probability of selling a TV on a given normal day may be only 30%. But if we consider \n",
    "that given day is diwali,then there are much more chances of selling a TV.The conditional Probability of selling a \n",
    "TV on a day given that Day is Diwali might be 70%."
   ]
  },
  {
   "cell_type": "markdown",
   "id": "5a7496ab-ee0c-48d2-96b9-db1ca8a99596",
   "metadata": {},
   "source": [
    "6. What are continuous random variables?\n"
   ]
  },
  {
   "cell_type": "markdown",
   "id": "97dc0605-979e-4a3f-a2dc-561763d63182",
   "metadata": {},
   "source": [
    "A continuous random variable X takes all values in a given interval of number \n",
    "\n",
    "-The probability distribution  of a continuous random variable is shown by a density curve\n",
    "\n",
    "-The probability that X is between an interval of number is the area under the density curve between interval endpoints.\n"
   ]
  },
  {
   "cell_type": "markdown",
   "id": "bfc14fc3-8e86-47be-88ed-c58779f7963f",
   "metadata": {},
   "source": [
    "7. What are Bernoulli distributions? What is the formula of it?\n"
   ]
  },
  {
   "cell_type": "markdown",
   "id": "04bac563-ab4b-42b1-82b9-1c3739761882",
   "metadata": {},
   "source": [
    "A Bernoulli distribution is a discrete probability distribution for a Bernoulli trail - a random experiment that \n",
    "has only two outcomes (usually called a Sucess or a Failure) .The expected value for a random variable,X.\n",
    "\n",
    "For a Bernoulli distribution is :E[X] =p.For example,if p=0.04, then E[X]=0.4"
   ]
  },
  {
   "cell_type": "markdown",
   "id": "8b974c9b-221b-44ab-92c5-a903bf8c1504",
   "metadata": {},
   "source": [
    "8. What is binomial distribution? What is the formula?"
   ]
  },
  {
   "cell_type": "markdown",
   "id": "efd90dab-5afd-46a3-84b5-b112c31b0619",
   "metadata": {},
   "source": [
    "The binomial is a type of distribution that has two possible outcomes (the prefix \"bi\" means two,or twice).For \n",
    "example, a coin toss has only two possible outcomes :heads or tails and taking a test could have two possible \n",
    "outcomes : pass or fail.\n",
    "\n",
    "A Biomial Distribution shows either (S)ucess or (F)ailure."
   ]
  },
  {
   "cell_type": "markdown",
   "id": "af617afe-3358-4ef1-8e3d-3285e65ef075",
   "metadata": {},
   "source": [
    "9. What is Poisson distribution? What is the formula?\n"
   ]
  },
  {
   "cell_type": "markdown",
   "id": "9e2e3113-ae4a-47cf-9bd9-5106e60ce33d",
   "metadata": {},
   "source": [
    "A poission distraction is defined as a distcrete frequency distribution that gives the probability of the number\n",
    "of independent events that occur in the fixed time.\n",
    "\n",
    "In statistics,a Poisson distribution is a probability distribution that is used to show how many times an event is \n",
    "likely to occur over a specified period......The poission distribution is a discrete function, meaning that the \n",
    "variable can only takes specific values in a (potentially infinite) list."
   ]
  },
  {
   "cell_type": "markdown",
   "id": "e8e03214-928e-49be-a586-b4d2867c313b",
   "metadata": {},
   "source": [
    "10. Define covariance.\n"
   ]
  },
  {
   "cell_type": "markdown",
   "id": "159af96b-de7f-49a8-93c6-569e30b18cc4",
   "metadata": {},
   "source": [
    "Coveriance is a measurement of how much two random variables vary together.It's similar to variance,but where \n",
    "variance tells you how a single variable varries,co variance tells you how two variable vary together."
   ]
  },
  {
   "cell_type": "markdown",
   "id": "c7e51e95-7cd0-4774-b106-555c8cb7a0e8",
   "metadata": {},
   "source": [
    "11. Define correlation\n"
   ]
  },
  {
   "cell_type": "markdown",
   "id": "e6664554-ade2-4fc6-927d-113b203f495d",
   "metadata": {},
   "source": [
    "Correlation explains how one or more variables are related to each other.These variables can be input data \n",
    "features which have been used to forcast out target variable .It's a bi-variate analysis measure which describes the \n",
    "association between different variables."
   ]
  },
  {
   "cell_type": "markdown",
   "id": "d67e341a-465b-499a-b6b6-1baf838181ff",
   "metadata": {},
   "source": [
    "12. Define sampling with replacement. Give example.\n"
   ]
  },
  {
   "cell_type": "markdown",
   "id": "179e07bf-db3c-4ef8-9429-64e3d81e25ca",
   "metadata": {},
   "source": [
    "If you sample with replacement,you would cloose one person's name,put that person's name back in that hat,and then \n",
    "choose another name.The posssibilities for your two-name sample are : John,John. John, Jack."
   ]
  },
  {
   "cell_type": "markdown",
   "id": "37ae5fea-e327-44ae-9dcf-8f2a44cd15dd",
   "metadata": {},
   "source": [
    "13. What is sampling without replacement? Give example.\n"
   ]
  },
  {
   "cell_type": "markdown",
   "id": "acf4e27e-a5b1-45c7-bc3f-3cedcb35a18a",
   "metadata": {},
   "source": [
    "In sampling without repplacement,each sample unit of the population has only one chance to be selected in the \n",
    "sample.For example, if one draws a sample random sample such that no unit occurs more than one time in the sample,\n",
    "the sample is drawn without repacement."
   ]
  },
  {
   "cell_type": "markdown",
   "id": "a23b7aff-fc15-4749-b32e-ada370b0cd09",
   "metadata": {},
   "source": [
    "14. What is hypothesis? Give example."
   ]
  },
  {
   "cell_type": "markdown",
   "id": "9f07a6f0-3742-4771-939e-1a47909385f8",
   "metadata": {},
   "source": [
    "A hypothesis (plural hypotheses) is a proposed explanation for a phenomenon.For a hypothesis to be a scientific \n",
    "hypothesis,the scientific method requires that one can test it....Even through the words \"hypothesis\" and \"theory\"\n",
    "are often used synonymously,a scientific hypothesis is not the same as a scientific theory.\n",
    "\n",
    "Examples of hypothesis statements :If garlic repels fleas,then a dog that is given garlic everyday will not get \n",
    "fleas.Bacterial growth may be affected by moisture levels in the air.If sugar causes cavities,then people who eat\n",
    "a lot of candy may be more prone to cavities."
   ]
  },
  {
   "cell_type": "code",
   "execution_count": null,
   "id": "a999947c-2415-41da-b7c3-11f4ae853324",
   "metadata": {},
   "outputs": [],
   "source": []
  },
  {
   "cell_type": "code",
   "execution_count": null,
   "id": "b4a2d5b0-53f1-47cc-b1a3-255fae86f668",
   "metadata": {},
   "outputs": [],
   "source": []
  },
  {
   "cell_type": "code",
   "execution_count": null,
   "id": "764d774c-8b9e-4cfe-b259-d409e21f7076",
   "metadata": {},
   "outputs": [],
   "source": []
  },
  {
   "cell_type": "code",
   "execution_count": null,
   "id": "dba73a8b-1856-40d2-9122-4d0107770cf4",
   "metadata": {},
   "outputs": [],
   "source": []
  },
  {
   "cell_type": "code",
   "execution_count": null,
   "id": "008d46ff-0d95-45d9-80ca-23e91712a693",
   "metadata": {},
   "outputs": [],
   "source": []
  }
 ],
 "metadata": {
  "kernelspec": {
   "display_name": "Python 3 (ipykernel)",
   "language": "python",
   "name": "python3"
  },
  "language_info": {
   "codemirror_mode": {
    "name": "ipython",
    "version": 3
   },
   "file_extension": ".py",
   "mimetype": "text/x-python",
   "name": "python",
   "nbconvert_exporter": "python",
   "pygments_lexer": "ipython3",
   "version": "3.9.12"
  }
 },
 "nbformat": 4,
 "nbformat_minor": 5
}
