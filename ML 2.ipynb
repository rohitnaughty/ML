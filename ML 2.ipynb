{
 "cells": [
  {
   "cell_type": "markdown",
   "id": "dce0593f-a94f-4d13-a3e3-c5f8ecc5fd70",
   "metadata": {},
   "source": [
    " 1. What is the concept of human learning? Please give two examples ?\n"
   ]
  },
  {
   "cell_type": "markdown",
   "id": "eadcce2a-4f5a-490f-aab5-4b31f18bca6b",
   "metadata": {},
   "source": [
    "Ans.Human learning is the form of learning which higher order mental processes like thiking ,reasoning ,\n",
    "    intelligence,etc.we learn different concept from childhood. For example:\n",
    "    \n",
    "    1.Learning through Association -classical conditioning.\n",
    "    \n",
    "    2. Learning through consequences-Operant Conditioning.\n",
    "    \n",
    "    3.Learning through observation- Modeling/Observation Learning."
   ]
  },
  {
   "cell_type": "markdown",
   "id": "b3559bd9-5d96-447f-b13a-d6e49eb38dbc",
   "metadata": {},
   "source": [
    "2. What different forms of human learning are there? Are there any machine learning equivalents ?\n"
   ]
  },
  {
   "cell_type": "markdown",
   "id": "db12c901-659b-4de2-90e5-27e8c898916c",
   "metadata": {},
   "source": [
    "Different form of ML are as follows :\n",
    "    \n",
    "    1.Artificial Intelligence Learning Theories.Machine Learning .Reinforcement learning.supervised learning .\n",
    "    unsupervised learing.\n",
    "    \n",
    "    2.ML equivalent like linear regression,decision trees ,random forsest and support vector machine are some commonly\n",
    "    used techninques that are actually examples of supervised learning."
   ]
  },
  {
   "cell_type": "markdown",
   "id": "553879a2-d318-4704-8726-8797b19cb7e9",
   "metadata": {},
   "source": [
    "3. What is machine learning, and how does it work? What are the key responsibilities of machine learning ?\n"
   ]
  },
  {
   "cell_type": "markdown",
   "id": "346736e2-66eb-4594-999f-48f6bd771c9b",
   "metadata": {},
   "source": [
    "Machine learning is a branch of Artificial intelligence (AI) that teaches computers on how to think in a similar\n",
    "way to how humans do,like by learning and improving upon past experiences.\n",
    "\n",
    "1.It works by exploring data and identifying patterns, and involves minimals human intervention.\n",
    "  roles and resposibilites of machine learning engineer are:\n",
    "        \n",
    "-Designing ML systems.\n",
    "\n",
    "-Researchig and implementing ML algorithums and tools. Selecting appropriate data sets.\n",
    "\n",
    "-Picking appropriate data representation methods.Identifying difference in data distribution that affects model\n",
    "performence.Verifying data quality."
   ]
  },
  {
   "cell_type": "markdown",
   "id": "211f219f-61c7-4979-95db-fcae5655ade2",
   "metadata": {},
   "source": [
    "4. Define the terms \"penalty\" and \"reward\" in the context of reinforcement learning ?\n"
   ]
  },
  {
   "cell_type": "markdown",
   "id": "fc578094-376e-4c80-bff4-ef066f8e02d2",
   "metadata": {},
   "source": [
    "A Reinforcement Learning Algorithum,which may also be referrred to as an agent,learns by interacting with its \n",
    "environment.The agent recieves reward by performing correctly and penalties for performing incorrectly.The agent \n",
    "learns without intervention from a human by maximizing its reward and minimizating its penalty."
   ]
  },
  {
   "cell_type": "markdown",
   "id": "9e560370-0c58-4c82-b13b-feb66758a9d1",
   "metadata": {},
   "source": [
    "5. Explain the term \"learning as a search\" ?\n"
   ]
  },
  {
   "cell_type": "markdown",
   "id": "96209295-0277-4535-a59f-8544d57bdf46",
   "metadata": {},
   "source": [
    "Learning can be viewed as a search throught the space og all sentences in the concept description  language\n",
    "for a sentence that best describes the data.Alternatively,it can be viewed as a search through all hypotheses\n",
    "in a hypothesis space."
   ]
  },
  {
   "cell_type": "markdown",
   "id": "8b3bf8c1-1e7a-4172-b4b3-a29025460d22",
   "metadata": {},
   "source": [
    "6. What are the various goals of machine learning? What is the relationship between these and human learning ?\n"
   ]
  },
  {
   "cell_type": "markdown",
   "id": "dc4da945-ca11-4be3-bcd4-218d9183e3d6",
   "metadata": {},
   "source": [
    "The Goal of machine learning,closely coupled with the goal of AI.is to achieve a through understanding \n",
    "about the nature of learning process (both human leaning and other forms osf learning),about the computational\n",
    "aspects of learing behaviour,and to implant th learning capability in computer systems.\n",
    "\n",
    "Human have the ability to learn,however with the progress in artificial intelligence,machine learning has \n",
    "become a resource which can augment or even replace human leaning.Learning does not happen all at once, but \n",
    "it bulids upon and is shaped by previous knowledge."
   ]
  },
  {
   "cell_type": "markdown",
   "id": "0b478989-3daa-4b86-be9b-af4e7a0bb709",
   "metadata": {},
   "source": [
    "7. Illustrate the various elements of machine learning using a real-life illustration ?\n"
   ]
  },
  {
   "cell_type": "markdown",
   "id": "a46cca40-2048-4198-8da3-251e18e2700f",
   "metadata": {},
   "source": [
    "The various elements of the Machine learning are:\n",
    "1.Data\n",
    "2.Task\n",
    "3.Model\n",
    "4.Loss Function\n",
    "5.Learning Algorithum\n",
    "6.Elaluation"
   ]
  },
  {
   "cell_type": "markdown",
   "id": "8176fc5b-d4af-4800-9a6d-c1c0a5737391",
   "metadata": {},
   "source": [
    "8. Provide an example of the abstraction method ?\n"
   ]
  },
  {
   "cell_type": "markdown",
   "id": "3d13a6f0-350a-4aaa-8be1-2b35c9d83642",
   "metadata": {},
   "source": [
    "In Machine Learing,abstraction is supported primarily at the level of modules.This can be justified in two ways \n",
    ":First,Data abstraction is mostly a question of program iterfaces and therefore it arises naturally at the \n",
    "point where we have to consider program composition and modules."
   ]
  },
  {
   "cell_type": "markdown",
   "id": "6b6b39b1-5e4f-43fe-8cef-e34d23bc3be5",
   "metadata": {},
   "source": [
    "9. What is the concept of generalization? What function does it play in the machine learning process ?\n"
   ]
  },
  {
   "cell_type": "markdown",
   "id": "daff3c17-db85-407d-a790-158a49b3e263",
   "metadata": {},
   "source": [
    "Generalization refers to your model's ability to adapt properly to new, previousely unseen data,drawm from the \n",
    "same distribution as the one used to create the model.\n",
    "\n",
    "In machine learning,generalization is a definition to demonestrate how well is a trained model to classify or \n",
    "forecast unseen data.This issue can result to classify an actual dog image as a cat from the unseen dataset.\n",
    "Therefore ,data diversity is very important factor in order to make a good prediction."
   ]
  },
  {
   "cell_type": "markdown",
   "id": "4b536a6b-5f27-4bef-904a-21e7e6ac83cf",
   "metadata": {},
   "source": [
    "10. What is classification, exactly? What are the main distinctions between classification and regression ?\n"
   ]
  },
  {
   "cell_type": "markdown",
   "id": "82338807-4b66-4fa6-abca-0d9ef49f66be",
   "metadata": {},
   "source": [
    "In machine learning,classification refers to a predictive modeling problem where a class label is predicted for\n",
    "a given example of input data.Classification is the task of predicting a discrete class lable.Whereas Regression \n",
    "is the task of predicting a continuous quantity."
   ]
  },
  {
   "cell_type": "markdown",
   "id": "19033d23-0baa-4a8d-92db-5c48bd416eba",
   "metadata": {},
   "source": [
    "11. What is regression, and how does it work? Give an example of a real-world problem that was solved using regression ?\n"
   ]
  },
  {
   "cell_type": "markdown",
   "id": "93140c38-5444-465e-b3e1-35dc78087831",
   "metadata": {},
   "source": [
    "Regression is a Supervised Machine learning techinique which is used to predict contineous values.The ultimate \n",
    "goal of a regression algorithum is to plot a best-fit line or a curve between the date. \n",
    "\n",
    "The three main matrics that are used for evluating the trained regression model are variance,Bias and error.\n",
    "\n",
    "A simple linear regression real life example could mean you finding a relationship between the revenue and\n",
    "temerature, with a sample size for revenue as the dependent variable.In case of multiple variable regression,you\n",
    "can find the relationship between temerature, pricing and number of workers to the revenue."
   ]
  },
  {
   "cell_type": "markdown",
   "id": "3f2de611-1b63-49b6-9459-71e6d56d6c64",
   "metadata": {},
   "source": [
    "12. Describe the clustering mechanism in detail ?\n"
   ]
  },
  {
   "cell_type": "markdown",
   "id": "3df484e5-8f64-4ef7-b0af-83b1f46d4970",
   "metadata": {},
   "source": [
    "Clustering is the task of dividing the populatio or data points into a number of groups such that data points\n",
    "in the same groups are more similar to other data points in the same group than those in other groups. In simple \n",
    "words,the aim is to segregate groups with similar traits and assign them into clusters."
   ]
  },
  {
   "cell_type": "markdown",
   "id": "ef293414-463c-45ce-9114-3d1b96c316da",
   "metadata": {},
   "source": [
    "13. Make brief observations on two of the following topics ?\n",
    "\n",
    "1.Machine learning algorithms are used\n",
    "\n",
    "2.Studying under supervision\n",
    "\n",
    "3.Studying without supervision\n",
    "\n",
    "4.Reinforcement learning is a form of learning based on positive reinforcement."
   ]
  },
  {
   "cell_type": "markdown",
   "id": "033162c7-5711-44af-be45-00434302baa4",
   "metadata": {},
   "source": [
    "The brief observations on the following two topics is :\n",
    "Machine learning algorithum are used:At its Most basic ,Machine learing uses programmed algorithums that recieve\n",
    "and analyse input data to predict output values within an acceptable range.As new data is fed to those algorithum,\n",
    "They learn and optimise their operations to improve performance,devolopig intelligence over time.\n",
    "\n",
    "Studying under supervision:In machine learning,there are two imporant categories-Supervised and unsupervised \n",
    "learning.Supervised learning,an algorithum learns from a training dataset.we know the correct answers or desired \n",
    "output, the algorithum makes predictions using the given dataset and is corrected bu the \"supervisor\"\n"
   ]
  },
  {
   "cell_type": "code",
   "execution_count": null,
   "id": "489b7af3-e0ab-423c-879f-2d0658e97049",
   "metadata": {},
   "outputs": [],
   "source": []
  }
 ],
 "metadata": {
  "kernelspec": {
   "display_name": "Python 3 (ipykernel)",
   "language": "python",
   "name": "python3"
  },
  "language_info": {
   "codemirror_mode": {
    "name": "ipython",
    "version": 3
   },
   "file_extension": ".py",
   "mimetype": "text/x-python",
   "name": "python",
   "nbconvert_exporter": "python",
   "pygments_lexer": "ipython3",
   "version": "3.9.12"
  }
 },
 "nbformat": 4,
 "nbformat_minor": 5
}
